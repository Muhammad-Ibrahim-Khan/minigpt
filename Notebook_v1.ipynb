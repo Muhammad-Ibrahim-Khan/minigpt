{
 "cells": [
  {
   "cell_type": "markdown",
   "id": "d2bc10db-e92e-43f9-97b8-9ce480322af4",
   "metadata": {},
   "source": [
    "## Imports"
   ]
  },
  {
   "cell_type": "code",
   "execution_count": 7,
   "id": "9fd4fa00-73d8-4b12-a50d-a650ec8965c7",
   "metadata": {},
   "outputs": [],
   "source": [
    "import torch\n",
    "import torch.nn as nn\n",
    "from torch.nn import functional as F"
   ]
  },
  {
   "cell_type": "markdown",
   "id": "414ab80b",
   "metadata": {},
   "source": [
    "## Download text data"
   ]
  },
  {
   "cell_type": "code",
   "execution_count": null,
   "id": "44342aa1",
   "metadata": {},
   "outputs": [],
   "source": [
    "# We always start with a dataset to train on. Let's download the tiny shakespeare dataset\n",
    "!wget https://raw.githubusercontent.com/karpathy/char-rnn/master/data/tinyshakespeare/input.txt"
   ]
  },
  {
   "cell_type": "markdown",
   "id": "1aede391",
   "metadata": {},
   "source": [
    "## Load and read text data"
   ]
  },
  {
   "cell_type": "code",
   "execution_count": 1,
   "id": "4a328a5c",
   "metadata": {},
   "outputs": [],
   "source": [
    "with open('input.txt', 'r', encoding='utf-8') as f:\n",
    "    text = f.read()"
   ]
  },
  {
   "cell_type": "code",
   "execution_count": 2,
   "id": "6c565a06",
   "metadata": {},
   "outputs": [
    {
     "name": "stdout",
     "output_type": "stream",
     "text": [
      "\n",
      " !$&',-.3:;?ABCDEFGHIJKLMNOPQRSTUVWXYZabcdefghijklmnopqrstuvwxyz\n",
      "Vocab size = 65\n"
     ]
    }
   ],
   "source": [
    "chars = sorted(list(set(text)))\n",
    "vocab_size = len(chars)\n",
    "print(''.join(chars))\n",
    "print(f\"Vocab size = {vocab_size}\")"
   ]
  },
  {
   "cell_type": "markdown",
   "id": "6851426f",
   "metadata": {},
   "source": [
    "## Create a mapping from characters to integers (Tokenize)"
   ]
  },
  {
   "cell_type": "code",
   "execution_count": 3,
   "id": "43a34152",
   "metadata": {},
   "outputs": [
    {
     "name": "stdout",
     "output_type": "stream",
     "text": [
      "[20, 47, 1, 58, 46, 43, 56, 43, 8]\n",
      "Hi there.\n"
     ]
    }
   ],
   "source": [
    "stoi = { ch:i for i,ch in enumerate(chars) }\n",
    "itos = {i:ch for i,ch in enumerate(chars) }\n",
    "encode = lambda s: [stoi[c] for c in s]\n",
    "decode = lambda l: ''.join([itos[i] for i in l])\n",
    "\n",
    "print(encode(\"Hi there.\"))\n",
    "print(decode(encode(\"Hi there.\")))"
   ]
  },
  {
   "cell_type": "markdown",
   "id": "9957215f",
   "metadata": {},
   "source": [
    "## Encode entire text data and store in Tensor"
   ]
  },
  {
   "cell_type": "code",
   "execution_count": 4,
   "id": "d637859d",
   "metadata": {},
   "outputs": [
    {
     "name": "stdout",
     "output_type": "stream",
     "text": [
      "Data shape = torch.Size([1115394]), Data type = torch.int64\n"
     ]
    }
   ],
   "source": [
    "data = torch.tensor(encode(text), dtype=torch.long)\n",
    "print(f\"Data shape = {data.shape}, Data type = {data.dtype}\")\n",
    "# print(data[:1000])  # 1000 characters will look to the GPT like this"
   ]
  },
  {
   "cell_type": "markdown",
   "id": "47e80172",
   "metadata": {},
   "source": [
    "## Train the data into train and test split"
   ]
  },
  {
   "cell_type": "code",
   "execution_count": 5,
   "id": "d2439fe8",
   "metadata": {},
   "outputs": [],
   "source": [
    "n = int(0.9*len(data))\n",
    "train_data = data[:n]\n",
    "test_data = data[n:]"
   ]
  },
  {
   "cell_type": "markdown",
   "id": "4ede0002",
   "metadata": {},
   "source": [
    "## Chunking data for dataloader (to train transformer)"
   ]
  },
  {
   "cell_type": "code",
   "execution_count": 6,
   "id": "1c9b1730",
   "metadata": {},
   "outputs": [],
   "source": [
    "block_size = 8"
   ]
  },
  {
   "cell_type": "code",
   "execution_count": 7,
   "id": "74cc7923",
   "metadata": {},
   "outputs": [
    {
     "name": "stdout",
     "output_type": "stream",
     "text": [
      "When the input is tensor([18]) the target is 47\n",
      "When the input is tensor([18, 47]) the target is 56\n",
      "When the input is tensor([18, 47, 56]) the target is 57\n",
      "When the input is tensor([18, 47, 56, 57]) the target is 58\n",
      "When the input is tensor([18, 47, 56, 57, 58]) the target is 1\n",
      "When the input is tensor([18, 47, 56, 57, 58,  1]) the target is 15\n",
      "When the input is tensor([18, 47, 56, 57, 58,  1, 15]) the target is 47\n",
      "When the input is tensor([18, 47, 56, 57, 58,  1, 15, 47]) the target is 58\n"
     ]
    }
   ],
   "source": [
    "x = train_data[:block_size]\n",
    "y = train_data[1:block_size+1]\n",
    "\n",
    "for t in range(block_size):\n",
    "    context = x[:t+1]\n",
    "    target = y[t]\n",
    "    print(f\"When the input is {context} the target is {target}\")"
   ]
  },
  {
   "cell_type": "code",
   "execution_count": 8,
   "id": "7f573417",
   "metadata": {},
   "outputs": [
    {
     "name": "stdout",
     "output_type": "stream",
     "text": [
      "Inputs: Shape = torch.Size([4, 8]), tensor([[24, 43, 58,  5, 57,  1, 46, 43],\n",
      "        [44, 53, 56,  1, 58, 46, 39, 58],\n",
      "        [52, 58,  1, 58, 46, 39, 58,  1],\n",
      "        [25, 17, 27, 10,  0, 21,  1, 54]])\n",
      "Targets: Shape = torch.Size([4, 8]), tensor([[43, 58,  5, 57,  1, 46, 43, 39],\n",
      "        [53, 56,  1, 58, 46, 39, 58,  1],\n",
      "        [58,  1, 58, 46, 39, 58,  1, 46],\n",
      "        [17, 27, 10,  0, 21,  1, 54, 39]])\n",
      "---\n",
      "When input is [24], the target is: 43\n",
      "When input is [24, 43], the target is: 58\n",
      "When input is [24, 43, 58], the target is: 5\n",
      "When input is [24, 43, 58, 5], the target is: 57\n",
      "When input is [24, 43, 58, 5, 57], the target is: 1\n",
      "When input is [24, 43, 58, 5, 57, 1], the target is: 46\n",
      "When input is [24, 43, 58, 5, 57, 1, 46], the target is: 43\n",
      "When input is [24, 43, 58, 5, 57, 1, 46, 43], the target is: 39\n",
      "When input is [44], the target is: 53\n",
      "When input is [44, 53], the target is: 56\n",
      "When input is [44, 53, 56], the target is: 1\n",
      "When input is [44, 53, 56, 1], the target is: 58\n",
      "When input is [44, 53, 56, 1, 58], the target is: 46\n",
      "When input is [44, 53, 56, 1, 58, 46], the target is: 39\n",
      "When input is [44, 53, 56, 1, 58, 46, 39], the target is: 58\n",
      "When input is [44, 53, 56, 1, 58, 46, 39, 58], the target is: 1\n",
      "When input is [52], the target is: 58\n",
      "When input is [52, 58], the target is: 1\n",
      "When input is [52, 58, 1], the target is: 58\n",
      "When input is [52, 58, 1, 58], the target is: 46\n",
      "When input is [52, 58, 1, 58, 46], the target is: 39\n",
      "When input is [52, 58, 1, 58, 46, 39], the target is: 58\n",
      "When input is [52, 58, 1, 58, 46, 39, 58], the target is: 1\n",
      "When input is [52, 58, 1, 58, 46, 39, 58, 1], the target is: 46\n",
      "When input is [25], the target is: 17\n",
      "When input is [25, 17], the target is: 27\n",
      "When input is [25, 17, 27], the target is: 10\n",
      "When input is [25, 17, 27, 10], the target is: 0\n",
      "When input is [25, 17, 27, 10, 0], the target is: 21\n",
      "When input is [25, 17, 27, 10, 0, 21], the target is: 1\n",
      "When input is [25, 17, 27, 10, 0, 21, 1], the target is: 54\n",
      "When input is [25, 17, 27, 10, 0, 21, 1, 54], the target is: 39\n"
     ]
    }
   ],
   "source": [
    "torch.manual_seed(1337)\n",
    "batch_size = 4  # how many independent sequences will be processed in parallel\n",
    "block_size = 8  # What is the maximum context length for predictions?\n",
    "\n",
    "def get_batch(split):\n",
    "    # Generate a small batch of data of inputs x and targets y\n",
    "    data = train_data if split=='train' else val_data\n",
    "    ix = torch.randint(len(data) - block_size, (batch_size, ))\n",
    "    x = torch.stack([data[i: i+block_size] for i in ix])\n",
    "    y = torch.stack([data[i+1: i+block_size+1] for i in ix])\n",
    "    return x, y\n",
    "\n",
    "xb, yb = get_batch('train')\n",
    "print(f\"Inputs: Shape = {xb.shape}, {xb}\")\n",
    "print(f\"Targets: Shape = {yb.shape}, {yb}\")\n",
    "print('---')\n",
    "\n",
    "for b in range(batch_size):  # Batch dimension\n",
    "    for t in range(block_size):  # Time dimension\n",
    "        context = xb[b, :t+1]\n",
    "        target = yb[b, t]\n",
    "        print(f\"When input is {context.tolist()}, the target is: {target}\")"
   ]
  },
  {
   "cell_type": "markdown",
   "id": "35aadcc2",
   "metadata": {},
   "source": [
    "## Bigram language model"
   ]
  },
  {
   "cell_type": "code",
   "execution_count": 9,
   "id": "53f16862",
   "metadata": {},
   "outputs": [
    {
     "name": "stdout",
     "output_type": "stream",
     "text": [
      "torch.Size([32, 65])\n",
      "tensor(4.8786, grad_fn=<NllLossBackward0>)\n",
      "\n",
      "Sr?qP-QWktXoL&jLDJgOLVz'RIoDqHdhsV&vLLxatjscMpwLERSPyao.qfzs$Ys$zF-w,;eEkzxjgCKFChs!iWW.ObzDnxA Ms$3\n"
     ]
    }
   ],
   "source": [
    "torch.manual_seed(1337)\n",
    "\n",
    "class BigramLanguageModel(nn.Module):\n",
    "    def __init__(self, vocab_size):\n",
    "        super().__init__()\n",
    "        # Each token directly reads off the logits for the next token from a lookup table\n",
    "        self.token_embedding_table = nn.Embedding(vocab_size, vocab_size)\n",
    "        \n",
    "    def forward(self, idx, targets=None):\n",
    "        # idx and targets are both (B,T) tensor of integers.\n",
    "        logits = self.token_embedding_table(idx)  # (B,T,C)\n",
    "        \n",
    "        if targets is None:\n",
    "            loss = None\n",
    "        else:\n",
    "            B, T, C = logits.shape\n",
    "            logits = logits.view(B*T, C)\n",
    "            targets = targets.view(B*T)\n",
    "            loss = F.cross_entropy(logits, targets)\n",
    "        \n",
    "        return logits, loss\n",
    "    \n",
    "    def generate(self, idx, max_new_tokens):\n",
    "        # idx is (B,T) array of indices in the current context\n",
    "        for _ in range(max_new_tokens):\n",
    "            # Get the predictions\n",
    "            logits, loss = self.forward(idx)\n",
    "            # focus only on the last time step\n",
    "            logits = logits[:, -1, :]  # Becomes (B,C)\n",
    "            # Apply softmax to get probabilities\n",
    "            probs = F.softmax(logits, dim=-1) # (B,C)\n",
    "            # Sample from the distribution\n",
    "            idx_next = torch.multinomial(probs, num_samples=1) # (B,1)\n",
    "            # Append sampled index to the running sequence\n",
    "            idx = torch.cat((idx, idx_next), dim=1) # (B, T+1)\n",
    "        return idx\n",
    "    \n",
    "m = BigramLanguageModel(vocab_size)\n",
    "logits, loss = m(xb, yb)\n",
    "print(logits.shape)\n",
    "print(loss)\n",
    "\n",
    "idx = torch.zeros((1, 1), dtype=torch.long)\n",
    "print(decode(m.generate(idx, max_new_tokens=100)[0].tolist()))"
   ]
  },
  {
   "cell_type": "markdown",
   "id": "18fbcb76",
   "metadata": {},
   "source": [
    "## Train PyTorch Model"
   ]
  },
  {
   "cell_type": "code",
   "execution_count": null,
   "id": "1f7ee30f",
   "metadata": {},
   "outputs": [],
   "source": [
    "# Create a PyTorch optimizer\n",
    "optimizer = torch.optim.AdamW(m.parameters(), lr=1e-3)"
   ]
  },
  {
   "cell_type": "code",
   "execution_count": null,
   "id": "8f4514be",
   "metadata": {},
   "outputs": [],
   "source": [
    "batch_size = 32\n",
    "final_loss = 0\n",
    "for steps in range(10000):\n",
    "    # Sample a batch of data\n",
    "    xb, yb = get_batch('train')\n",
    "    \n",
    "    # Evaluate the loss\n",
    "    logits, loss = m(xb, yb)\n",
    "    optimizer.zero_grad(set_to_none=True)\n",
    "    loss.backward()\n",
    "    optimizer.step()\n",
    "\n",
    "print(loss.item())"
   ]
  },
  {
   "cell_type": "code",
   "execution_count": null,
   "id": "d7005455",
   "metadata": {},
   "outputs": [],
   "source": [
    "idx = torch.zeros((1, 1), dtype=torch.long)\n",
    "print(decode(m.generate(idx, max_new_tokens=100)[0].tolist()))"
   ]
  },
  {
   "cell_type": "markdown",
   "id": "f7aa1f03-e1d0-4e0f-bf56-97c5f40d43b2",
   "metadata": {},
   "source": [
    "## Mathematical trick in self-attention"
   ]
  },
  {
   "cell_type": "code",
   "execution_count": 8,
   "id": "a865beea-e527-44ef-8798-68897475769f",
   "metadata": {},
   "outputs": [
    {
     "data": {
      "text/plain": [
       "torch.Size([4, 8, 2])"
      ]
     },
     "execution_count": 8,
     "metadata": {},
     "output_type": "execute_result"
    }
   ],
   "source": [
    "# Consider the following toy example\n",
    "torch.manual_seed(1337)\n",
    "B, T, C = 4, 8, 2  # Batch, Time, Channels\n",
    "x = torch.randn(B, T, C)\n",
    "x.shape"
   ]
  },
  {
   "cell_type": "markdown",
   "id": "05a0378b-953e-45cf-948f-945be380ebd5",
   "metadata": {},
   "source": [
    "### Version 1: Using for loop"
   ]
  },
  {
   "cell_type": "code",
   "execution_count": 9,
   "id": "4941c40a-41e5-4526-915a-73e634ddd3ef",
   "metadata": {},
   "outputs": [],
   "source": [
    "# We want x[b, t] = mean_{i <= t} x[b,i]\n",
    "xbow = torch.zeros((B, T, C))\n",
    "for b in range(B):\n",
    "    for t in range(T):\n",
    "        xprev = x[b, :t+1]  # (t, C)\n",
    "        xbow[b, t] = torch.mean(xprev, 0)"
   ]
  },
  {
   "cell_type": "markdown",
   "id": "5c6c8fb1-2ea2-4b64-80c8-d4502eb83c50",
   "metadata": {},
   "source": [
    "### Version 2: Using matrix multiplication"
   ]
  },
  {
   "cell_type": "markdown",
   "id": "c09c7d8d-cdb2-447c-a30b-94ab4b86a3f9",
   "metadata": {},
   "source": [
    "#### Checking how Matrix mult looks like"
   ]
  },
  {
   "cell_type": "code",
   "execution_count": 10,
   "id": "10e7f276-8481-469e-b8e3-dbee3d94f50a",
   "metadata": {},
   "outputs": [
    {
     "name": "stdout",
     "output_type": "stream",
     "text": [
      "a=tensor([[1.0000, 0.0000, 0.0000],\n",
      "        [0.5000, 0.5000, 0.0000],\n",
      "        [0.3333, 0.3333, 0.3333]])\n",
      "--\n",
      "b=tensor([[2., 7.],\n",
      "        [6., 4.],\n",
      "        [6., 5.]])\n",
      "--\n",
      "c=tensor([[2.0000, 7.0000],\n",
      "        [4.0000, 5.5000],\n",
      "        [4.6667, 5.3333]])\n",
      "--\n"
     ]
    }
   ],
   "source": [
    "torch.manual_seed(42)\n",
    "a = torch.tril((torch.ones(3, 3)))\n",
    "a = a / torch.sum(a, 1, keepdim=True)\n",
    "b = torch.randint(0, 10, (3, 2) ).float()\n",
    "c = a @ b\n",
    "\n",
    "print(f'a={a}')\n",
    "print('--')\n",
    "\n",
    "print(f'b={b}')\n",
    "print('--')\n",
    "\n",
    "print(f'c={c}')\n",
    "print('--')"
   ]
  },
  {
   "cell_type": "markdown",
   "id": "f193d489-1e2e-4ba1-8878-8f9eea1ebe01",
   "metadata": {},
   "source": [
    "### Actual MatMul"
   ]
  },
  {
   "cell_type": "code",
   "execution_count": 18,
   "id": "0ecee21a-12d9-4cfa-92b0-6294fb7ba08d",
   "metadata": {
    "scrolled": true
   },
   "outputs": [],
   "source": [
    "wei = torch.tril(torch.ones(T, T))\n",
    "wei = wei / wei.sum(1, keepdim=True)\n",
    "xbow2 = torch.matmul(wei, x)  # (B (broadcasted by PyTorch), T, T) @ (B, T, C) ---> (B, T, C)\n",
    "\n",
    "# Checking\n",
    "# final_check = np.allclose(xbow, xbow2)\n",
    "# torch.eq(xbow, xbow2)"
   ]
  },
  {
   "cell_type": "markdown",
   "id": "ac3d4b6a-1d94-46dc-9e92-85841b424d8e",
   "metadata": {},
   "source": [
    "### Version 3: Using Softmax"
   ]
  },
  {
   "cell_type": "code",
   "execution_count": 17,
   "id": "c91b5c69-1569-4638-b231-1ace5a553ef4",
   "metadata": {},
   "outputs": [],
   "source": [
    "tril = torch.tril(torch.ones(T, T))\n",
    "wei = torch.zeros((T, T))\n",
    "wei = wei.masked_fill(tril == 0, float('-inf'))\n",
    "wei = F.softmax(wei, dim=-1)\n",
    "xbow3 = wei @ x\n"
   ]
  },
  {
   "cell_type": "markdown",
   "id": "14d3e21c-fd61-47a8-ad17-f8e38f0a519d",
   "metadata": {},
   "source": [
    "### Version 4: Self Attention"
   ]
  },
  {
   "cell_type": "code",
   "execution_count": 25,
   "id": "eb3ff86b-2075-4ee8-a045-29ad3758f372",
   "metadata": {},
   "outputs": [
    {
     "data": {
      "text/plain": [
       "torch.Size([4, 8, 16])"
      ]
     },
     "execution_count": 25,
     "metadata": {},
     "output_type": "execute_result"
    }
   ],
   "source": [
    "torch.manual_seed(1337)\n",
    "B, T, C = 4, 8, 32  # Batch, Time, Channels.\n",
    "x = torch.randn(B, T, C)\n",
    "\n",
    "# A single head in self-attention\n",
    "head_size = 16\n",
    "key = nn.Linear(C, head_size, bias=False)\n",
    "query = nn.Linear(C, head_size, bias=False)\n",
    "value = nn.Linear(C, head_size, bias=False)\n",
    "k = key(x)  # (B, T, 16)\n",
    "q = query(x)  # (B, T, 16)\n",
    "wei = q @ k.transpose(-2, -1)  # (B, T, 16) @ (B, 16, T) --> (B, T, T)\n",
    "\n",
    "tril = torch.tril(torch.ones(T, T)) \n",
    "wei = wei.masked_fill(tril == 0, float('-inf'))\n",
    "wei = F.softmax(wei, dim=-1)\n",
    "\n",
    "v = value(x)\n",
    "out = wei @ v\n",
    "out.shape"
   ]
  },
  {
   "cell_type": "code",
   "execution_count": 23,
   "id": "cd8eb5dc-157b-4af5-8de5-e934a0a90f9b",
   "metadata": {},
   "outputs": [
    {
     "data": {
      "text/plain": [
       "tensor([[1.0000, 0.0000, 0.0000, 0.0000, 0.0000, 0.0000, 0.0000, 0.0000],\n",
       "        [0.1574, 0.8426, 0.0000, 0.0000, 0.0000, 0.0000, 0.0000, 0.0000],\n",
       "        [0.2088, 0.1646, 0.6266, 0.0000, 0.0000, 0.0000, 0.0000, 0.0000],\n",
       "        [0.5792, 0.1187, 0.1889, 0.1131, 0.0000, 0.0000, 0.0000, 0.0000],\n",
       "        [0.0294, 0.1052, 0.0469, 0.0276, 0.7909, 0.0000, 0.0000, 0.0000],\n",
       "        [0.0176, 0.2689, 0.0215, 0.0089, 0.6812, 0.0019, 0.0000, 0.0000],\n",
       "        [0.1691, 0.4066, 0.0438, 0.0416, 0.1048, 0.2012, 0.0329, 0.0000],\n",
       "        [0.0210, 0.0843, 0.0555, 0.2297, 0.0573, 0.0709, 0.2423, 0.2391]],\n",
       "       grad_fn=<SelectBackward0>)"
      ]
     },
     "execution_count": 23,
     "metadata": {},
     "output_type": "execute_result"
    }
   ],
   "source": [
    "wei[0]"
   ]
  }
 ],
 "metadata": {
  "kernelspec": {
   "display_name": "Python 3 (ipykernel)",
   "language": "python",
   "name": "python3"
  },
  "language_info": {
   "codemirror_mode": {
    "name": "ipython",
    "version": 3
   },
   "file_extension": ".py",
   "mimetype": "text/x-python",
   "name": "python",
   "nbconvert_exporter": "python",
   "pygments_lexer": "ipython3",
   "version": "3.9.18"
  }
 },
 "nbformat": 4,
 "nbformat_minor": 5
}
